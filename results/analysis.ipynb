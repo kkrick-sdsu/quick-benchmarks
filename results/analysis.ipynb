{
 "cells": [
  {
   "cell_type": "markdown",
   "id": "caa90178-373e-4799-a5b5-b3d74e7ffb36",
   "metadata": {},
   "source": [
    "# Containerized QUICK Benchmark Analysis\n",
    "This notebook shows the performance comparison of containerized QUICK on various GPUs using the molecule [taxol](../input/taxol.in)."
   ]
  },
  {
   "cell_type": "code",
   "execution_count": 2,
   "id": "6782a2e5-69a7-4ea4-a289-ee5cb137cd8a",
   "metadata": {},
   "outputs": [],
   "source": [
    "# imports\n",
    "import pandas as pd"
   ]
  },
  {
   "cell_type": "code",
   "execution_count": 3,
   "id": "d9ead301-f438-40ed-87c2-4a1179d0c46f",
   "metadata": {},
   "outputs": [
    {
     "data": {
      "text/html": [
       "<div>\n",
       "<style scoped>\n",
       "    .dataframe tbody tr th:only-of-type {\n",
       "        vertical-align: middle;\n",
       "    }\n",
       "\n",
       "    .dataframe tbody tr th {\n",
       "        vertical-align: top;\n",
       "    }\n",
       "\n",
       "    .dataframe thead th {\n",
       "        text-align: right;\n",
       "    }\n",
       "</style>\n",
       "<table border=\"1\" class=\"dataframe\">\n",
       "  <thead>\n",
       "    <tr style=\"text-align: right;\">\n",
       "      <th></th>\n",
       "      <th>gpu_type</th>\n",
       "      <th>gpu_count</th>\n",
       "      <th>containerized</th>\n",
       "      <th>molecule</th>\n",
       "      <th>scf_time</th>\n",
       "      <th>gradient_time</th>\n",
       "      <th>total_time</th>\n",
       "      <th>system</th>\n",
       "    </tr>\n",
       "  </thead>\n",
       "  <tbody>\n",
       "    <tr>\n",
       "      <th>0</th>\n",
       "      <td>NVIDIA-A100-PCIE-40GB</td>\n",
       "      <td>1</td>\n",
       "      <td>True</td>\n",
       "      <td>morphine</td>\n",
       "      <td>6.643246</td>\n",
       "      <td>8.074201</td>\n",
       "      <td>18.963636</td>\n",
       "      <td>expanse</td>\n",
       "    </tr>\n",
       "    <tr>\n",
       "      <th>1</th>\n",
       "      <td>NVIDIA-A100-PCIE-40GB</td>\n",
       "      <td>2</td>\n",
       "      <td>True</td>\n",
       "      <td>morphine</td>\n",
       "      <td>4.214635</td>\n",
       "      <td>4.474140</td>\n",
       "      <td>13.116883</td>\n",
       "      <td>expanse</td>\n",
       "    </tr>\n",
       "    <tr>\n",
       "      <th>2</th>\n",
       "      <td>NVIDIA-A100-PCIE-40GB</td>\n",
       "      <td>3</td>\n",
       "      <td>True</td>\n",
       "      <td>morphine</td>\n",
       "      <td>3.806321</td>\n",
       "      <td>3.318024</td>\n",
       "      <td>11.496085</td>\n",
       "      <td>expanse</td>\n",
       "    </tr>\n",
       "    <tr>\n",
       "      <th>3</th>\n",
       "      <td>NVIDIA-A100-PCIE-40GB</td>\n",
       "      <td>1</td>\n",
       "      <td>True</td>\n",
       "      <td>psb5</td>\n",
       "      <td>1.299491</td>\n",
       "      <td>1.280677</td>\n",
       "      <td>19.505161</td>\n",
       "      <td>expanse</td>\n",
       "    </tr>\n",
       "    <tr>\n",
       "      <th>4</th>\n",
       "      <td>NVIDIA-A100-PCIE-40GB</td>\n",
       "      <td>2</td>\n",
       "      <td>True</td>\n",
       "      <td>psb5</td>\n",
       "      <td>0.904503</td>\n",
       "      <td>0.755967</td>\n",
       "      <td>5.493714</td>\n",
       "      <td>expanse</td>\n",
       "    </tr>\n",
       "  </tbody>\n",
       "</table>\n",
       "</div>"
      ],
      "text/plain": [
       "                gpu_type  gpu_count  containerized  molecule  scf_time  \\\n",
       "0  NVIDIA-A100-PCIE-40GB          1           True  morphine  6.643246   \n",
       "1  NVIDIA-A100-PCIE-40GB          2           True  morphine  4.214635   \n",
       "2  NVIDIA-A100-PCIE-40GB          3           True  morphine  3.806321   \n",
       "3  NVIDIA-A100-PCIE-40GB          1           True      psb5  1.299491   \n",
       "4  NVIDIA-A100-PCIE-40GB          2           True      psb5  0.904503   \n",
       "\n",
       "   gradient_time  total_time   system  \n",
       "0       8.074201   18.963636  expanse  \n",
       "1       4.474140   13.116883  expanse  \n",
       "2       3.318024   11.496085  expanse  \n",
       "3       1.280677   19.505161  expanse  \n",
       "4       0.755967    5.493714  expanse  "
      ]
     },
     "execution_count": 3,
     "metadata": {},
     "output_type": "execute_result"
    }
   ],
   "source": [
    "# Load compiled output data\n",
    "results_filepath = \"./results.csv\"\n",
    "results = pd.read_csv(results_filepath)\n",
    "results.head()"
   ]
  },
  {
   "cell_type": "markdown",
   "id": "0ff0da97-009f-49c9-97ae-f0c606b1a9d9",
   "metadata": {},
   "source": [
    "# Timings for Single GPUs"
   ]
  },
  {
   "cell_type": "markdown",
   "id": "49480dce-a522-4ff1-a8eb-6c014aa40400",
   "metadata": {},
   "source": [
    "## Total SCF Time"
   ]
  },
  {
   "cell_type": "code",
   "execution_count": null,
   "id": "ead59d8c-d171-491c-83a9-7e1b7b5f8a0e",
   "metadata": {},
   "outputs": [],
   "source": []
  },
  {
   "cell_type": "markdown",
   "id": "56834b56-4428-474f-b262-9899ed5a73b3",
   "metadata": {},
   "source": [
    "## Total Gradient Time"
   ]
  },
  {
   "cell_type": "code",
   "execution_count": null,
   "id": "908f37d9-6634-4516-8004-a6fb4ae31586",
   "metadata": {},
   "outputs": [],
   "source": []
  },
  {
   "cell_type": "markdown",
   "id": "f2d6ee71-1461-48f5-ba71-925bef93b589",
   "metadata": {},
   "source": [
    "## Total Time"
   ]
  },
  {
   "cell_type": "code",
   "execution_count": null,
   "id": "2416edfa-541b-4f21-84c4-81591e87ab26",
   "metadata": {},
   "outputs": [],
   "source": []
  }
 ],
 "metadata": {
  "kernelspec": {
   "display_name": "Python 3 (ipykernel)",
   "language": "python",
   "name": "python3"
  },
  "language_info": {
   "codemirror_mode": {
    "name": "ipython",
    "version": 3
   },
   "file_extension": ".py",
   "mimetype": "text/x-python",
   "name": "python",
   "nbconvert_exporter": "python",
   "pygments_lexer": "ipython3",
   "version": "3.11.5"
  }
 },
 "nbformat": 4,
 "nbformat_minor": 5
}
